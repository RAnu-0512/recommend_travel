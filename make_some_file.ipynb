{
 "cells": [
  {
   "cell_type": "code",
   "execution_count": 1,
   "metadata": {},
   "outputs": [
    {
     "name": "stdout",
     "output_type": "stream",
     "text": [
      "抽出されたスポット名の数: 150\n",
      "matched_rows に含まれる行の数: 150\n",
      "latlng2.csvが正常に作成されました: ./data_beta/latlng/岡山_latlng_review_top150.csv\n"
     ]
    }
   ],
   "source": [
    "import os\n",
    "import csv\n",
    "\n",
    "# Path①のディレクトリパス\n",
    "path1 = f\"./data_beta/aspects_and_vectors/岡山\"\n",
    "\n",
    "# latlng.csvのパス\n",
    "# ここでは、latlng.csvがPath①と同じ階層にあると仮定します。\n",
    "# 実際のパスに合わせて変更してください。\n",
    "latlng_csv_path = f\"./data_beta/latlng/岡山_latlng_review_exist3.csv\"\n",
    "\n",
    "# 出力するlatlng2.csvのパス\n",
    "latlng2_csv_path = f\"./data_beta/latlng/岡山_latlng_review_top150.csv\"\n",
    "\n",
    "# Step 1: Path①に存在するファイル名からスポット名を抽出\n",
    "spot_names = set()\n",
    "for filename in os.listdir(path1):\n",
    "    if filename.endswith(\"aspect_from_gpt_cluster_with_embeddings.csv\"):\n",
    "        # ファイル名から「aspect_from_gpt_cluster_with_embeddings.csv」を除去してスポット名を取得\n",
    "        spot_name = filename.replace(\"aspect_from_gpt_cluster_with_embeddings.csv\", \"\").strip()\n",
    "        spot_names.add(spot_name)\n",
    "\n",
    "print(f\"抽出されたスポット名の数: {len(spot_names)}\")\n",
    "\n",
    "# Step 2: latlng.csvからスポット名に対応する行を抽出\n",
    "matched_rows = []\n",
    "with open(latlng_csv_path, 'r', encoding='utf-8') as latlng_file:\n",
    "    reader = csv.reader(latlng_file)\n",
    "    for row in reader:\n",
    "        if len(row) < 3:\n",
    "            continue  # 不完全な行をスキップ\n",
    "        spot = row[0].strip()\n",
    "        if spot in spot_names:\n",
    "            matched_rows.append(row)\n",
    "\n",
    "print(f\"matched_rows に含まれる行の数: {len(matched_rows)}\")\n",
    "\n",
    "# Step 3: matched_rowsをlatlng2.csvに書き込む\n",
    "with open(latlng2_csv_path, 'w', encoding='utf-8', newline='') as latlng2_file:\n",
    "    writer = csv.writer(latlng2_file)\n",
    "    writer.writerows(matched_rows)\n",
    "\n",
    "print(f\"latlng2.csvが正常に作成されました: {latlng2_csv_path}\")\n"
   ]
  },
  {
   "cell_type": "code",
   "execution_count": 12,
   "metadata": {},
   "outputs": [
    {
     "data": {
      "text/plain": [
       "{'岡山': {'lat': 1}}"
      ]
     },
     "execution_count": 12,
     "metadata": {},
     "output_type": "execute_result"
    }
   ],
   "source": [
    "# spots_info = {spotname:{lat:lat,lng:lng,aspects:{apsect1:vector1,aspect2:vector,..},spots_aspectsVector:vector,spot_numOfRev:number,spot_url:url}}\n",
    "\n",
    "test_dict = {\"岡山\":{\"岡山後楽園\":{\"lat\":0.21,\"lng\":0.54,\"aspects\":{\"景色\":[1,3,4],\"散策\":[3,1,3]},\"spots_aspectsVector\":[2,1,3],\"spot_numOfRev\":123,\"spot_url\":\"http://\"},\"アリオ\":{}}}\n",
    "\n",
    "test_dict2 = {}\n",
    "\n",
    "test_dict2[\"岡山\"]={}\n",
    "test_dict2[\"岡山\"][\"lat\"]=1\n",
    "test_dict2"
   ]
  },
  {
   "cell_type": "code",
   "execution_count": 19,
   "metadata": {},
   "outputs": [],
   "source": [
    "pref = \"岡山\"\n",
    "spots_info = {}\n",
    "latlng_info_path = f\"data_beta/latlng/{pref}_latlng_review_top150.csv\"\n",
    "with open(latlng_info_path, 'r', encoding='utf-8') as f_latlng:\n",
    "    reader = csv.reader(f_latlng)\n",
    "    for row in reader:\n",
    "        sn = row[0]\n",
    "        lat = float(row[1])\n",
    "        lng = float(row[2])\n",
    "        spots_info[sn]={}\n",
    "        spots_info[sn][\"lat\"] = lat\n",
    "        spots_info[sn][\"lng\"] = lng\n",
    "        spots_info[sn][\"apsects\"] = {}\n"
   ]
  },
  {
   "cell_type": "code",
   "execution_count": 44,
   "metadata": {},
   "outputs": [
    {
     "name": "stdout",
     "output_type": "stream",
     "text": [
      "ファイルが見つかりました!! : 岡山\n"
     ]
    }
   ],
   "source": [
    "def get_pref_spot_info(pref):\n",
    "    # spots_info = [[spot_name_1, [lat_1,lng_1], [aspects_1],[asp_vectors_1],[spots_aspectsVector_float_1],spot_numOfRev,spot_url], ... ]\n",
    "    # spots_info = {spotname:{lat:lat,lng:lng,aspects:{apsect1:vector1,aspect2:vector,..},spots_aspectsVector:vector,spot_numOfRev:number,spot_url:url}}\n",
    "    spots_info = {}\n",
    "    latlng_info_path = f\"data_beta/latlng/{pref}_latlng_review_top150.csv\"\n",
    "    with open(latlng_info_path, 'r', encoding='utf-8') as f_latlng:\n",
    "        reader = csv.reader(f_latlng)\n",
    "        for row in reader:\n",
    "            spot_name = row[0]\n",
    "            lat = float(row[1])\n",
    "            lng = float(row[2])\n",
    "            spots_info[spot_name]={}\n",
    "            spots_info[spot_name][\"lat\"] = lat\n",
    "            spots_info[spot_name][\"lng\"] = lng\n",
    "            spots_info[spot_name][\"aspects\"] = {}\n",
    "            \n",
    "    aspect_folder_path = f\"./data_beta/aspects_and_vectors/{pref}/\"\n",
    "    read_aspectsVector_path = f\"./data_beta/spots_aspect_vector/{pref}aspectVector_fromCluster_GPT.csv\"\n",
    "\n",
    "    with open(read_aspectsVector_path, 'r', newline='', encoding='utf-8') as csvfile:\n",
    "        csv_reader = csv.reader(csvfile)\n",
    "        for row in csv_reader:\n",
    "            spot_name = row[0]\n",
    "            spots_aspectVector_str = row[1]\n",
    "            if spot_name in spots_info:\n",
    "                spots_info[spot_name][\"spots_aspectsVector\"] = [float(value) for value in spots_aspectVector_str.replace(\"[\", \"\").replace(\"]\", \"\").replace(\"\\n\", \"\").replace(\",\",\"\").split()]\n",
    "            \n",
    "    #レビュー数を読み込みこむ\n",
    "    review_num_path  = f\"data_beta/number_of_review/{pref}_numOfRview.csv\"\n",
    "    with open(review_num_path,\"r\",encoding=\"utf-8\") as f_r:\n",
    "        reader = csv.reader(f_r)\n",
    "        for row in reader:\n",
    "            spot_name = row[0]\n",
    "            numOfrev = row[1]\n",
    "            if spot_name in spots_info:\n",
    "                spots_info[spot_name][\"numOfRev\"] = numOfrev\n",
    "\n",
    "    #スポットのurlを読み込む\n",
    "    url_info_path = f\"data_beta/url/{pref}_Spots_url_exist_3.csv\"\n",
    "    with open(url_info_path,\"r\",encoding=\"utf-8\") as f_r:\n",
    "        reader = csv.reader(f_r)\n",
    "        for row in reader:\n",
    "            spot_name = row[0]\n",
    "            url = row[1]\n",
    "            if spot_name in spots_info:\n",
    "                spots_info[spot_name][\"spot_url\"] = url\n",
    "\n",
    "    for spot_name,spot_info in spots_info.items():\n",
    "        aspect_path = aspect_folder_path + spot_name + \"aspect_from_gpt_cluster_with_embeddings.csv\"\n",
    "        with open(aspect_path,\"r\",encoding=\"utf-8\") as f_aspect:\n",
    "            reader = csv.reader(f_aspect)\n",
    "            header = next(reader)\n",
    "            rows = list(reader)\n",
    "        for row in rows:\n",
    "            aspect = row[0]\n",
    "            vector_str = row[5]\n",
    "            vector_float = [float(value) for value in vector_str.replace(\"[\", \"\").replace(\"]\", \"\").replace(\"\\n\", \"\").split(\",\")]\n",
    "            spot_info[\"aspects\"][aspect] = vector_float\n",
    "    print(f\"ファイルが見つかりました!! : {pref}\")\n",
    "    # except FileNotFoundError:\n",
    "    #     print(f\"ファイルが見つかりませんでした。:{pref}\")\n",
    "    #     spots_info = []\n",
    "\n",
    "    return spots_info\n",
    "\n",
    "\n",
    "returned_ = get_pref_spot_info(\"岡山\")"
   ]
  },
  {
   "cell_type": "code",
   "execution_count": null,
   "metadata": {},
   "outputs": [],
   "source": [
    "aspects_keys_view = list(returned_[\"岡山後楽園\"][\"aspects\"].keys())\n",
    "all_aspect_dict = {}\n",
    "for spot_name,spot_info in returned_.items():\n",
    "    for aspect in list(spot_info[\"aspects\"].keys()):\n",
    "        print(aspect)"
   ]
  },
  {
   "cell_type": "code",
   "execution_count": null,
   "metadata": {},
   "outputs": [],
   "source": [
    "list(returned_[\"岡山後楽園\"][\"aspects\"].keys())"
   ]
  }
 ],
 "metadata": {
  "kernelspec": {
   "display_name": "Python 3",
   "language": "python",
   "name": "python3"
  },
  "language_info": {
   "codemirror_mode": {
    "name": "ipython",
    "version": 3
   },
   "file_extension": ".py",
   "mimetype": "text/x-python",
   "name": "python",
   "nbconvert_exporter": "python",
   "pygments_lexer": "ipython3",
   "version": "3.9.6"
  }
 },
 "nbformat": 4,
 "nbformat_minor": 2
}
